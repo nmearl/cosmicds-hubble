{
 "cells": [
  {
   "cell_type": "code",
   "execution_count": null,
   "metadata": {},
   "outputs": [],
   "source": [
    "from dotenv import load_dotenv\n",
    "load_dotenv();"
   ]
  },
  {
   "cell_type": "code",
   "execution_count": null,
   "metadata": {
    "scrolled": false
   },
   "outputs": [],
   "source": [
    "from warnings import filterwarnings\n",
    "\n",
    "filterwarnings(action=\"ignore\", category=UserWarning)\n",
    "\n",
    "from cosmicds.app import Application\n",
    "\n",
    "\n",
    "app = Application(story='hubbles_law', update_db=False, show_team_interface=True, allow_advancing=True, create_new_student=False)\n",
    "# app = Application(story='hubbles_law', update_db=True, show_team_interface=True, allow_advancing=True, student_id=4071) \n",
    "\n",
    "app"
   ]
  },
  {
   "cell_type": "markdown",
   "metadata": {},
   "source": []
  },
  {
   "cell_type": "code",
   "execution_count": null,
   "metadata": {},
   "outputs": [],
   "source": [
    "# Run this to close the side menu\n",
    "# app.drawer= False"
   ]
  },
  {
   "cell_type": "code",
   "execution_count": null,
   "metadata": {},
   "outputs": [],
   "source": [
    "# app.app_state.dark_mode = False"
   ]
  },
  {
   "cell_type": "code",
   "execution_count": null,
   "metadata": {},
   "outputs": [],
   "source": [
    "# These are for convenience during testing, from @johnarban\n",
    "# it is usually best to always explicitly include the stage in the call. multiple stages may have the same variable name and so could have unintended side effects\n",
    "# if the stage index is not included, it automatically assumes the current stage\n",
    "\n",
    "def get_state(stage_index = None):\n",
    "    \"\"\" Get the state for a particular stage or current stage\"\"\"\n",
    "    \n",
    "    if stage_index is None:\n",
    "        stage_index = app.story_state.stage_index\n",
    "    \n",
    "    return app.story_state.stages[stage_index]['state'], stage_index\n",
    "\n",
    "\n",
    "def go_to_marker(marker, stage_index = None):\n",
    "    \"\"\" go to a marker\"\"\"\n",
    "    state, stage_index = get_state(stage_index)\n",
    "    \n",
    "    if app.story_state.stage_index != stage_index:\n",
    "        app.story_state.stage_index = stage_index\n",
    "        \n",
    "    state.marker = marker\n",
    "    \n",
    "    \n",
    "def set_state_var(var, value, stage_index = None):\n",
    "    \"\"\" set a state variable (maybe)\"\"\"\n",
    "    \n",
    "    state, stage_index = get_state(stage_index)\n",
    "    \n",
    "    if hasattr(state,var):\n",
    "        setattr(state, var, value)\n",
    "    else:\n",
    "        print(f'Stage {stage_index} has not varialbe {var}')\n",
    "\n",
    "def get_state_var(var, stage_index = None):\n",
    "    \"\"\"get the value of a state variable\"\"\"\n",
    "    \n",
    "    state, stage_index = get_state(stage_index)\n",
    "    \n",
    "    if hasattr(state,var):\n",
    "        print(f'{var}:',getattr(state, var))\n",
    "        return getattr(state, var)\n",
    "    else:\n",
    "        print(f\"Variable {var} does not exist on Stage {stage_index}\\n\")\n",
    "        print('\\t Available variables are: \\n',state)\n",
    "        return state\n",
    "        \n",
    "def next_marker():\n",
    "    \n",
    "    state, stage_index = get_state(stage_index)\n",
    "    \n",
    "    stage_markers = app.story_state.stages[stage_index]['state'].markers\n",
    "    \n",
    "    marker = app.story_state.stages[stage_index]['state'].marker\n",
    "    \n",
    "    print(f'old marker {marker}')\n",
    "    state.marker = stage_markers[stage_markers.index(marker)+1]\n",
    "    print(f'new marker {state.marker}')"
   ]
  },
  {
   "cell_type": "code",
   "execution_count": null,
   "metadata": {},
   "outputs": [],
   "source": [
    "# go_to_marker(\"age_dis1\", stage_index=5)\n",
    "# go_to_marker(\"new1\", stage_index=5)"
   ]
  },
  {
   "cell_type": "code",
   "execution_count": null,
   "metadata": {},
   "outputs": [],
   "source": [
    "# s = get_state_var('stu_high_age', stage_index =5) # get state variable from stage 5 #\n",
    "# set_state_var('stu_high_age', value = 6, stage_index = 5) # get state variable from the current stage"
   ]
  }
 ],
 "metadata": {
  "kernelspec": {
   "display_name": "Python 3 (ipykernel)",
   "language": "python",
   "name": "python3"
  },
  "language_info": {
   "codemirror_mode": {
    "name": "ipython",
    "version": 3
   },
   "file_extension": ".py",
   "mimetype": "text/x-python",
   "name": "python",
   "nbconvert_exporter": "python",
   "pygments_lexer": "ipython3",
   "version": "3.8.16"
  },
  "vscode": {
   "interpreter": {
    "hash": "31f2aee4e71d21fbe5cf8b01ff0e069b9275f58929596ceb00d14d90e3e16cd6"
   }
  }
 },
 "nbformat": 4,
 "nbformat_minor": 2
}
